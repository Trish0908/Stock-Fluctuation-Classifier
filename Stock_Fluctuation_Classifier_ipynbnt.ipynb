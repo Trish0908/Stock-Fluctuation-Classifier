{
  "nbformat": 4,
  "nbformat_minor": 0,
  "metadata": {
    "colab": {
      "name": "Stock Fluctuation Classifier.ipynbnt ",
      "provenance": [],
      "collapsed_sections": []
    },
    "kernelspec": {
      "name": "python3",
      "display_name": "Python 3"
    }
  },
  "cells": [
    {
      "cell_type": "markdown",
      "metadata": {
        "id": "ZSdaymksoV83"
      },
      "source": [
        "### Description: Predicting the direction of Stocks price using stock indicators with machine learning.\r\n",
        "- Technical Indicators: They are mathematical calculations based on things like the stock price or the stock volume.\r\n",
        "- Technical analysts and traders use these indicators and historical data to try and predict future price movements.\r\n",
        "\r\n",
        "Importing Libraries"
      ]
    },
    {
      "cell_type": "code",
      "metadata": {
        "id": "0TljO2Ycehn-"
      },
      "source": [
        "import pandas as pd\r\n",
        "import numpy as np\r\n",
        "import pandas_datareader as web\r\n",
        "from sklearn.model_selection import train_test_split\r\n",
        "from sklearn.tree import DecisionTreeClassifier\r\n",
        "from sklearn.metrics import classification_report\r\n",
        "import matplotlib.pyplot as plt\r\n",
        "plt.style.use('fivethirtyeight')"
      ],
      "execution_count": 359,
      "outputs": []
    },
    {
      "cell_type": "markdown",
      "metadata": {
        "id": "_-SGgEHdpKeI"
      },
      "source": [
        "Get the stock quote"
      ]
    },
    {
      "cell_type": "code",
      "metadata": {
        "id": "neAI37NXpHHT"
      },
      "source": [
        "df = web.DataReader('UBER', data_source = 'yahoo', start = '2020-01-01', end = '2021-02-10')"
      ],
      "execution_count": 360,
      "outputs": []
    },
    {
      "cell_type": "markdown",
      "metadata": {
        "id": "r4E7WAowpo9g"
      },
      "source": [
        "Showing the starting 5 data "
      ]
    },
    {
      "cell_type": "code",
      "metadata": {
        "colab": {
          "base_uri": "https://localhost:8080/",
          "height": 225
        },
        "id": "289au6WEpiuW",
        "outputId": "8dbe2f05-42d1-45a1-adc7-184019935c2c"
      },
      "source": [
        "df.head()"
      ],
      "execution_count": 361,
      "outputs": [
        {
          "output_type": "execute_result",
          "data": {
            "text/html": [
              "<div>\n",
              "<style scoped>\n",
              "    .dataframe tbody tr th:only-of-type {\n",
              "        vertical-align: middle;\n",
              "    }\n",
              "\n",
              "    .dataframe tbody tr th {\n",
              "        vertical-align: top;\n",
              "    }\n",
              "\n",
              "    .dataframe thead th {\n",
              "        text-align: right;\n",
              "    }\n",
              "</style>\n",
              "<table border=\"1\" class=\"dataframe\">\n",
              "  <thead>\n",
              "    <tr style=\"text-align: right;\">\n",
              "      <th></th>\n",
              "      <th>High</th>\n",
              "      <th>Low</th>\n",
              "      <th>Open</th>\n",
              "      <th>Close</th>\n",
              "      <th>Volume</th>\n",
              "      <th>Adj Close</th>\n",
              "    </tr>\n",
              "    <tr>\n",
              "      <th>Date</th>\n",
              "      <th></th>\n",
              "      <th></th>\n",
              "      <th></th>\n",
              "      <th></th>\n",
              "      <th></th>\n",
              "      <th></th>\n",
              "    </tr>\n",
              "  </thead>\n",
              "  <tbody>\n",
              "    <tr>\n",
              "      <th>2020-01-02</th>\n",
              "      <td>31.000000</td>\n",
              "      <td>29.790001</td>\n",
              "      <td>29.940001</td>\n",
              "      <td>30.990000</td>\n",
              "      <td>20578900</td>\n",
              "      <td>30.990000</td>\n",
              "    </tr>\n",
              "    <tr>\n",
              "      <th>2020-01-03</th>\n",
              "      <td>31.430000</td>\n",
              "      <td>30.480000</td>\n",
              "      <td>30.620001</td>\n",
              "      <td>31.370001</td>\n",
              "      <td>18822700</td>\n",
              "      <td>31.370001</td>\n",
              "    </tr>\n",
              "    <tr>\n",
              "      <th>2020-01-06</th>\n",
              "      <td>32.060001</td>\n",
              "      <td>31.000000</td>\n",
              "      <td>31.010000</td>\n",
              "      <td>31.580000</td>\n",
              "      <td>21204700</td>\n",
              "      <td>31.580000</td>\n",
              "    </tr>\n",
              "    <tr>\n",
              "      <th>2020-01-07</th>\n",
              "      <td>32.840000</td>\n",
              "      <td>31.360001</td>\n",
              "      <td>31.790001</td>\n",
              "      <td>32.810001</td>\n",
              "      <td>30119600</td>\n",
              "      <td>32.810001</td>\n",
              "    </tr>\n",
              "    <tr>\n",
              "      <th>2020-01-08</th>\n",
              "      <td>34.520000</td>\n",
              "      <td>32.459999</td>\n",
              "      <td>32.730000</td>\n",
              "      <td>33.930000</td>\n",
              "      <td>43944400</td>\n",
              "      <td>33.930000</td>\n",
              "    </tr>\n",
              "  </tbody>\n",
              "</table>\n",
              "</div>"
            ],
            "text/plain": [
              "                 High        Low       Open      Close    Volume  Adj Close\n",
              "Date                                                                       \n",
              "2020-01-02  31.000000  29.790001  29.940001  30.990000  20578900  30.990000\n",
              "2020-01-03  31.430000  30.480000  30.620001  31.370001  18822700  31.370001\n",
              "2020-01-06  32.060001  31.000000  31.010000  31.580000  21204700  31.580000\n",
              "2020-01-07  32.840000  31.360001  31.790001  32.810001  30119600  32.810001\n",
              "2020-01-08  34.520000  32.459999  32.730000  33.930000  43944400  33.930000"
            ]
          },
          "metadata": {
            "tags": []
          },
          "execution_count": 361
        }
      ]
    },
    {
      "cell_type": "markdown",
      "metadata": {
        "id": "hitreG6Cp4bK"
      },
      "source": [
        "Get the number of rows and columns in the data set"
      ]
    },
    {
      "cell_type": "code",
      "metadata": {
        "colab": {
          "base_uri": "https://localhost:8080/"
        },
        "id": "QtzH3Rp1pp05",
        "outputId": "20946cb6-919b-4ba6-9e8d-205c285782c1"
      },
      "source": [
        "df.shape"
      ],
      "execution_count": 362,
      "outputs": [
        {
          "output_type": "execute_result",
          "data": {
            "text/plain": [
              "(280, 6)"
            ]
          },
          "metadata": {
            "tags": []
          },
          "execution_count": 362
        }
      ]
    },
    {
      "cell_type": "markdown",
      "metadata": {
        "id": "OYFKB_Fdp9PF"
      },
      "source": [
        "Visualize the closing price history"
      ]
    },
    {
      "cell_type": "code",
      "metadata": {
        "colab": {
          "base_uri": "https://localhost:8080/",
          "height": 270
        },
        "id": "77exwf7gp6g1",
        "outputId": "9414c812-92f3-4d94-c840-7e82690d124d"
      },
      "source": [
        "plt.figure(figsize = (12.5, 4.5))\r\n",
        "plt.plot(df['Close'], label = 'Close', color = 'red')\r\n",
        "plt.title('Close Price')\r\n",
        "plt.xlabel('Date', fontsize = 18)\r\n",
        "plt.ylabel('Price USD ($)', fontsize = 18)\r\n",
        "plt.show()"
      ],
      "execution_count": 363,
      "outputs": [
        {
          "output_type": "display_data",
          "data": {
            "image/png": "[encoded data removed]",
            "text/plain": [
              "<Figure size 900x324 with 1 Axes>"
            ]
          },
          "metadata": {
            "tags": []
          }
        }
      ]
    },
    {
      "cell_type": "markdown",
      "metadata": {
        "id": "xMuHxmdPqHV-"
      },
      "source": [
        "Creating Functions to calculate the SMA and EMA\r\n",
        "- SMA: Simple Moving Average\r\n",
        "   \r\n",
        "   \r\n",
        "   *A simple moving average (SMA) calculates the average of a selected range of prices, usually closing prices, by the number of periods in that range. A simple moving average is a technical indicator that can aid in determining if an asset price will continue or if it will reverse a bull or bear trend.* (source: google Jan 27,2021)\r\n",
        "- EMA: Exponential Moving Average\r\n",
        "\r\n",
        "*The exponential moving average (EMA) is a technical chart indicator that tracks the price of an investment (like a stock or commodity) over time. The EMA is a type of weighted moving average (WMA) that gives more weighting or importance to recent price data.*\r\n",
        "(source: google Jan 27,2021)\r\n",
        "\r\n",
        "-  a common time period to use for moving averages are 15, 20, 30, 50, 100 and 200 days.\r\n",
        "\r\n",
        "\r\n",
        "1st Creating the Simple Moving Average (SMA)\r\n"
      ]
    },
    {
      "cell_type": "code",
      "metadata": {
        "id": "70guP2TxqA5l"
      },
      "source": [
        "def SMA(data, period=30, column='Close'):\r\n",
        "  return data[column].rolling(window=period).mean()"
      ],
      "execution_count": 364,
      "outputs": []
    },
    {
      "cell_type": "markdown",
      "metadata": {
        "id": "H9VOCxAgqR3u"
      },
      "source": [
        "2nd Creating the Exponential Moving Average (EMA)"
      ]
    },
    {
      "cell_type": "code",
      "metadata": {
        "id": "JFnXJ6eBqKIM"
      },
      "source": [
        "def EMA(data, period=20, column='Close'):\r\n",
        "  return data[column].ewm(span=period, adjust=False).mean()"
      ],
      "execution_count": 365,
      "outputs": []
    },
    {
      "cell_type": "markdown",
      "metadata": {
        "id": "xiXIZ8xLqW2U"
      },
      "source": [
        "Calculating the MACD\r\n",
        "- MACD: Moving Average Convergence/Divergence\r\n",
        "\r\n",
        "*Moving average convergence divergence (MACD) is a trend-following momentum indicator that shows the relationship between two moving averages of a security's price. ... Traders may buy the security when the MACD crosses above its signal line and sell—or short—the security when the MACD crosses below the signal line.* (source: Jan 27,2021)\r\n",
        "- longer period has a 26 day exponential moving average. \r\n",
        "- shorter period has a 20 day exponential moving average.\r\n",
        "- MACD also have a signal line which is recommended to have a 9 day exponential moving average.\r\n",
        "\r\n"
      ]
    },
    {
      "cell_type": "code",
      "metadata": {
        "id": "q7Dt506aqUE4"
      },
      "source": [
        "def MACD(data, period_long=26, period_short=12, period_signal=9, column='Close'):\r\n",
        "  \r\n",
        "  #Calculating the Short Term Exponential Moving Average\r\n",
        "  ShortEMA = EMA(data, period_short, column=column)\r\n",
        "\r\n",
        "  #Calculating the Long Term Exponential Moving Average\r\n",
        "  LongEMA = EMA(data, period_long, column=column)\r\n",
        "\r\n",
        "  #Calculating the Moving Average Convergence/Divergence (MACD)\r\n",
        "  data['MACD'] = ShortEMA - LongEMA\r\n",
        "\r\n",
        "  #Calculating the signal line\r\n",
        "  data['Signal_line'] = EMA(data, period_signal, column='MACD')\r\n",
        "\r\n",
        "  return data"
      ],
      "execution_count": 366,
      "outputs": []
    },
    {
      "cell_type": "markdown",
      "metadata": {
        "id": "iLl1s7epqoSR"
      },
      "source": [
        "Creating a function for computing the RSI\r\n",
        "- RSI: Relative Strength Index\r\n",
        "\r\n",
        "*The relative strength index (RSI) is a momentum indicator used in technical analysis that measures the magnitude of recent price changes to evaluate overbought or oversold conditions in the price of a stock or other asset.* (source: Jan 27,2021)\r\n",
        "-  Here defaulting to recommended 14 day time period.\r\n",
        "- diff function is used to find the discrete difference over the column axis."
      ]
    },
    {
      "cell_type": "code",
      "metadata": {
        "id": "cnaZv-PkqZqb"
      },
      "source": [
        "def RSI(data, period=14, column='Close'):\r\n",
        "  delta = data[column].diff(1)\r\n",
        "  delta = delta.dropna()\r\n",
        "  up = delta.copy()\r\n",
        "  down = delta.copy()\r\n",
        "  up[up < 0] = 0\r\n",
        "  down[down > 0] = 0\r\n",
        "  data['up'] = up\r\n",
        "  data['down'] = down\r\n",
        "  AVG_Gain = SMA(data, period, column='up')\r\n",
        "  AVG_Loss = abs(SMA(data, period, column='down'))\r\n",
        "  RS = AVG_Gain / AVG_Loss\r\n",
        "  RSI = 100.0 - (100.0/(1.0 + RS))\r\n",
        "\r\n",
        "  data['RSI'] = RSI\r\n",
        "\r\n",
        "  return data"
      ],
      "execution_count": 367,
      "outputs": []
    },
    {
      "cell_type": "markdown",
      "metadata": {
        "id": "Xh4kU8SLrBtv"
      },
      "source": [
        "Creating/Adding the data set"
      ]
    },
    {
      "cell_type": "code",
      "metadata": {
        "id": "nK9R18Alqqq_"
      },
      "source": [
        "MACD(df)\r\n",
        "RSI(df)\r\n",
        "df['SMA'] = SMA(df)\r\n",
        "df['EMA'] = EMA(df)"
      ],
      "execution_count": 368,
      "outputs": []
    },
    {
      "cell_type": "markdown",
      "metadata": {
        "id": "CV2Qb6I8rL8J"
      },
      "source": [
        "Showing the  data"
      ]
    },
    {
      "cell_type": "code",
      "metadata": {
        "colab": {
          "base_uri": "https://localhost:8080/",
          "height": 636
        },
        "id": "ZwWIk4_irDxv",
        "outputId": "b208fe40-64df-4fca-f121-41196ab8ecdf"
      },
      "source": [
        "df"
      ],
      "execution_count": 369,
      "outputs": [
        {
          "output_type": "execute_result",
          "data": {
            "text/html": [
              "<div>\n",
              "<style scoped>\n",
              "    .dataframe tbody tr th:only-of-type {\n",
              "        vertical-align: middle;\n",
              "    }\n",
              "\n",
              "    .dataframe tbody tr th {\n",
              "        vertical-align: top;\n",
              "    }\n",
              "\n",
              "    .dataframe thead th {\n",
              "        text-align: right;\n",
              "    }\n",
              "</style>\n",
              "<table border=\"1\" class=\"dataframe\">\n",
              "  <thead>\n",
              "    <tr style=\"text-align: right;\">\n",
              "      <th></th>\n",
              "      <th>High</th>\n",
              "      <th>Low</th>\n",
              "      <th>Open</th>\n",
              "      <th>Close</th>\n",
              "      <th>Volume</th>\n",
              "      <th>Adj Close</th>\n",
              "      <th>MACD</th>\n",
              "      <th>Signal_line</th>\n",
              "      <th>up</th>\n",
              "      <th>down</th>\n",
              "      <th>RSI</th>\n",
              "      <th>SMA</th>\n",
              "      <th>EMA</th>\n",
              "    </tr>\n",
              "    <tr>\n",
              "      <th>Date</th>\n",
              "      <th></th>\n",
              "      <th></th>\n",
              "      <th></th>\n",
              "      <th></th>\n",
              "      <th></th>\n",
              "      <th></th>\n",
              "      <th></th>\n",
              "      <th></th>\n",
              "      <th></th>\n",
              "      <th></th>\n",
              "      <th></th>\n",
              "      <th></th>\n",
              "      <th></th>\n",
              "    </tr>\n",
              "  </thead>\n",
              "  <tbody>\n",
              "    <tr>\n",
              "      <th>2020-01-02</th>\n",
              "      <td>31.000000</td>\n",
              "      <td>29.790001</td>\n",
              "      <td>29.940001</td>\n",
              "      <td>30.990000</td>\n",
              "      <td>20578900</td>\n",
              "      <td>30.990000</td>\n",
              "      <td>0.000000</td>\n",
              "      <td>0.000000</td>\n",
              "      <td>NaN</td>\n",
              "      <td>NaN</td>\n",
              "      <td>NaN</td>\n",
              "      <td>NaN</td>\n",
              "      <td>30.990000</td>\n",
              "    </tr>\n",
              "    <tr>\n",
              "      <th>2020-01-03</th>\n",
              "      <td>31.430000</td>\n",
              "      <td>30.480000</td>\n",
              "      <td>30.620001</td>\n",
              "      <td>31.370001</td>\n",
              "      <td>18822700</td>\n",
              "      <td>31.370001</td>\n",
              "      <td>0.030313</td>\n",
              "      <td>0.006063</td>\n",
              "      <td>0.380001</td>\n",
              "      <td>0.0</td>\n",
              "      <td>NaN</td>\n",
              "      <td>NaN</td>\n",
              "      <td>31.026190</td>\n",
              "    </tr>\n",
              "    <tr>\n",
              "      <th>2020-01-06</th>\n",
              "      <td>32.060001</td>\n",
              "      <td>31.000000</td>\n",
              "      <td>31.010000</td>\n",
              "      <td>31.580000</td>\n",
              "      <td>21204700</td>\n",
              "      <td>31.580000</td>\n",
              "      <td>0.070470</td>\n",
              "      <td>0.018944</td>\n",
              "      <td>0.209999</td>\n",
              "      <td>0.0</td>\n",
              "      <td>NaN</td>\n",
              "      <td>NaN</td>\n",
              "      <td>31.078934</td>\n",
              "    </tr>\n",
              "    <tr>\n",
              "      <th>2020-01-07</th>\n",
              "      <td>32.840000</td>\n",
              "      <td>31.360001</td>\n",
              "      <td>31.790001</td>\n",
              "      <td>32.810001</td>\n",
              "      <td>30119600</td>\n",
              "      <td>32.810001</td>\n",
              "      <td>0.199248</td>\n",
              "      <td>0.055005</td>\n",
              "      <td>1.230001</td>\n",
              "      <td>0.0</td>\n",
              "      <td>NaN</td>\n",
              "      <td>NaN</td>\n",
              "      <td>31.243798</td>\n",
              "    </tr>\n",
              "    <tr>\n",
              "      <th>2020-01-08</th>\n",
              "      <td>34.520000</td>\n",
              "      <td>32.459999</td>\n",
              "      <td>32.730000</td>\n",
              "      <td>33.930000</td>\n",
              "      <td>43944400</td>\n",
              "      <td>33.930000</td>\n",
              "      <td>0.387217</td>\n",
              "      <td>0.121447</td>\n",
              "      <td>1.119999</td>\n",
              "      <td>0.0</td>\n",
              "      <td>NaN</td>\n",
              "      <td>NaN</td>\n",
              "      <td>31.499626</td>\n",
              "    </tr>\n",
              "    <tr>\n",
              "      <th>...</th>\n",
              "      <td>...</td>\n",
              "      <td>...</td>\n",
              "      <td>...</td>\n",
              "      <td>...</td>\n",
              "      <td>...</td>\n",
              "      <td>...</td>\n",
              "      <td>...</td>\n",
              "      <td>...</td>\n",
              "      <td>...</td>\n",
              "      <td>...</td>\n",
              "      <td>...</td>\n",
              "      <td>...</td>\n",
              "      <td>...</td>\n",
              "    </tr>\n",
              "    <tr>\n",
              "      <th>2021-02-04</th>\n",
              "      <td>57.849998</td>\n",
              "      <td>56.110001</td>\n",
              "      <td>56.450001</td>\n",
              "      <td>57.849998</td>\n",
              "      <td>13841600</td>\n",
              "      <td>57.849998</td>\n",
              "      <td>0.680298</td>\n",
              "      <td>0.484439</td>\n",
              "      <td>0.730000</td>\n",
              "      <td>0.0</td>\n",
              "      <td>52.179960</td>\n",
              "      <td>54.152000</td>\n",
              "      <td>54.280914</td>\n",
              "    </tr>\n",
              "    <tr>\n",
              "      <th>2021-02-05</th>\n",
              "      <td>58.708000</td>\n",
              "      <td>57.369999</td>\n",
              "      <td>58.160000</td>\n",
              "      <td>58.580002</td>\n",
              "      <td>15705700</td>\n",
              "      <td>58.580002</td>\n",
              "      <td>0.944314</td>\n",
              "      <td>0.576414</td>\n",
              "      <td>0.730003</td>\n",
              "      <td>0.0</td>\n",
              "      <td>57.320576</td>\n",
              "      <td>54.312000</td>\n",
              "      <td>54.690351</td>\n",
              "    </tr>\n",
              "    <tr>\n",
              "      <th>2021-02-08</th>\n",
              "      <td>60.110001</td>\n",
              "      <td>58.689999</td>\n",
              "      <td>59.700001</td>\n",
              "      <td>59.290001</td>\n",
              "      <td>18403700</td>\n",
              "      <td>59.290001</td>\n",
              "      <td>1.197041</td>\n",
              "      <td>0.700539</td>\n",
              "      <td>0.709999</td>\n",
              "      <td>0.0</td>\n",
              "      <td>57.177150</td>\n",
              "      <td>54.498000</td>\n",
              "      <td>55.128413</td>\n",
              "    </tr>\n",
              "    <tr>\n",
              "      <th>2021-02-09</th>\n",
              "      <td>61.060001</td>\n",
              "      <td>58.619999</td>\n",
              "      <td>58.910000</td>\n",
              "      <td>59.610001</td>\n",
              "      <td>23385700</td>\n",
              "      <td>59.610001</td>\n",
              "      <td>1.406932</td>\n",
              "      <td>0.841818</td>\n",
              "      <td>0.320000</td>\n",
              "      <td>0.0</td>\n",
              "      <td>57.664924</td>\n",
              "      <td>54.722334</td>\n",
              "      <td>55.555230</td>\n",
              "    </tr>\n",
              "    <tr>\n",
              "      <th>2021-02-10</th>\n",
              "      <td>63.080002</td>\n",
              "      <td>60.804001</td>\n",
              "      <td>62.000000</td>\n",
              "      <td>62.459999</td>\n",
              "      <td>19241146</td>\n",
              "      <td>62.459999</td>\n",
              "      <td>1.782693</td>\n",
              "      <td>1.029993</td>\n",
              "      <td>2.849998</td>\n",
              "      <td>0.0</td>\n",
              "      <td>64.294894</td>\n",
              "      <td>55.072000</td>\n",
              "      <td>56.212827</td>\n",
              "    </tr>\n",
              "  </tbody>\n",
              "</table>\n",
              "<p>280 rows × 13 columns</p>\n",
              "</div>"
            ],
            "text/plain": [
              "                 High        Low       Open  ...        RSI        SMA        EMA\n",
              "Date                                         ...                                 \n",
              "2020-01-02  31.000000  29.790001  29.940001  ...        NaN        NaN  30.990000\n",
              "2020-01-03  31.430000  30.480000  30.620001  ...        NaN        NaN  31.026190\n",
              "2020-01-06  32.060001  31.000000  31.010000  ...        NaN        NaN  31.078934\n",
              "2020-01-07  32.840000  31.360001  31.790001  ...        NaN        NaN  31.243798\n",
              "2020-01-08  34.520000  32.459999  32.730000  ...        NaN        NaN  31.499626\n",
              "...               ...        ...        ...  ...        ...        ...        ...\n",
              "2021-02-04  57.849998  56.110001  56.450001  ...  52.179960  54.152000  54.280914\n",
              "2021-02-05  58.708000  57.369999  58.160000  ...  57.320576  54.312000  54.690351\n",
              "2021-02-08  60.110001  58.689999  59.700001  ...  57.177150  54.498000  55.128413\n",
              "2021-02-09  61.060001  58.619999  58.910000  ...  57.664924  54.722334  55.555230\n",
              "2021-02-10  63.080002  60.804001  62.000000  ...  64.294894  55.072000  56.212827\n",
              "\n",
              "[280 rows x 13 columns]"
            ]
          },
          "metadata": {
            "tags": []
          },
          "execution_count": 369
        }
      ]
    },
    {
      "cell_type": "markdown",
      "metadata": {
        "id": "dA6AaSP1rRhf"
      },
      "source": [
        "Creating the target column\r\n",
        "- In the target column we want to know if tomorrow's price will go up or down, so for doing that we can basically use zero(0) or one(1).\r\n",
        "- One will indicate that, tomorrow's closed price will be higher than today's closed price and a zero indicates tomorrow's close price will be equal to or lower than today's closed price."
      ]
    },
    {
      "cell_type": "code",
      "metadata": {
        "id": "AQizNPGxrNl1"
      },
      "source": [
        "df['Target'] = np.where(df['Close'].shift(-1) > df['Close'], 1, 0)"
      ],
      "execution_count": 370,
      "outputs": []
    },
    {
      "cell_type": "markdown",
      "metadata": {
        "id": "UGM2-6u5GXQN"
      },
      "source": [
        "Showing the data"
      ]
    },
    {
      "cell_type": "code",
      "metadata": {
        "colab": {
          "base_uri": "https://localhost:8080/",
          "height": 636
        },
        "id": "cL0Jz3oqGQPI",
        "outputId": "625eefaf-5f20-4d41-d1ea-507fab26d10b"
      },
      "source": [
        "df"
      ],
      "execution_count": 371,
      "outputs": [
        {
          "output_type": "execute_result",
          "data": {
            "text/html": [
              "<div>\n",
              "<style scoped>\n",
              "    .dataframe tbody tr th:only-of-type {\n",
              "        vertical-align: middle;\n",
              "    }\n",
              "\n",
              "    .dataframe tbody tr th {\n",
              "        vertical-align: top;\n",
              "    }\n",
              "\n",
              "    .dataframe thead th {\n",
              "        text-align: right;\n",
              "    }\n",
              "</style>\n",
              "<table border=\"1\" class=\"dataframe\">\n",
              "  <thead>\n",
              "    <tr style=\"text-align: right;\">\n",
              "      <th></th>\n",
              "      <th>High</th>\n",
              "      <th>Low</th>\n",
              "      <th>Open</th>\n",
              "      <th>Close</th>\n",
              "      <th>Volume</th>\n",
              "      <th>Adj Close</th>\n",
              "      <th>MACD</th>\n",
              "      <th>Signal_line</th>\n",
              "      <th>up</th>\n",
              "      <th>down</th>\n",
              "      <th>RSI</th>\n",
              "      <th>SMA</th>\n",
              "      <th>EMA</th>\n",
              "      <th>Target</th>\n",
              "    </tr>\n",
              "    <tr>\n",
              "      <th>Date</th>\n",
              "      <th></th>\n",
              "      <th></th>\n",
              "      <th></th>\n",
              "      <th></th>\n",
              "      <th></th>\n",
              "      <th></th>\n",
              "      <th></th>\n",
              "      <th></th>\n",
              "      <th></th>\n",
              "      <th></th>\n",
              "      <th></th>\n",
              "      <th></th>\n",
              "      <th></th>\n",
              "      <th></th>\n",
              "    </tr>\n",
              "  </thead>\n",
              "  <tbody>\n",
              "    <tr>\n",
              "      <th>2020-01-02</th>\n",
              "      <td>31.000000</td>\n",
              "      <td>29.790001</td>\n",
              "      <td>29.940001</td>\n",
              "      <td>30.990000</td>\n",
              "      <td>20578900</td>\n",
              "      <td>30.990000</td>\n",
              "      <td>0.000000</td>\n",
              "      <td>0.000000</td>\n",
              "      <td>NaN</td>\n",
              "      <td>NaN</td>\n",
              "      <td>NaN</td>\n",
              "      <td>NaN</td>\n",
              "      <td>30.990000</td>\n",
              "      <td>1</td>\n",
              "    </tr>\n",
              "    <tr>\n",
              "      <th>2020-01-03</th>\n",
              "      <td>31.430000</td>\n",
              "      <td>30.480000</td>\n",
              "      <td>30.620001</td>\n",
              "      <td>31.370001</td>\n",
              "      <td>18822700</td>\n",
              "      <td>31.370001</td>\n",
              "      <td>0.030313</td>\n",
              "      <td>0.006063</td>\n",
              "      <td>0.380001</td>\n",
              "      <td>0.0</td>\n",
              "      <td>NaN</td>\n",
              "      <td>NaN</td>\n",
              "      <td>31.026190</td>\n",
              "      <td>1</td>\n",
              "    </tr>\n",
              "    <tr>\n",
              "      <th>2020-01-06</th>\n",
              "      <td>32.060001</td>\n",
              "      <td>31.000000</td>\n",
              "      <td>31.010000</td>\n",
              "      <td>31.580000</td>\n",
              "      <td>21204700</td>\n",
              "      <td>31.580000</td>\n",
              "      <td>0.070470</td>\n",
              "      <td>0.018944</td>\n",
              "      <td>0.209999</td>\n",
              "      <td>0.0</td>\n",
              "      <td>NaN</td>\n",
              "      <td>NaN</td>\n",
              "      <td>31.078934</td>\n",
              "      <td>1</td>\n",
              "    </tr>\n",
              "    <tr>\n",
              "      <th>2020-01-07</th>\n",
              "      <td>32.840000</td>\n",
              "      <td>31.360001</td>\n",
              "      <td>31.790001</td>\n",
              "      <td>32.810001</td>\n",
              "      <td>30119600</td>\n",
              "      <td>32.810001</td>\n",
              "      <td>0.199248</td>\n",
              "      <td>0.055005</td>\n",
              "      <td>1.230001</td>\n",
              "      <td>0.0</td>\n",
              "      <td>NaN</td>\n",
              "      <td>NaN</td>\n",
              "      <td>31.243798</td>\n",
              "      <td>1</td>\n",
              "    </tr>\n",
              "    <tr>\n",
              "      <th>2020-01-08</th>\n",
              "      <td>34.520000</td>\n",
              "      <td>32.459999</td>\n",
              "      <td>32.730000</td>\n",
              "      <td>33.930000</td>\n",
              "      <td>43944400</td>\n",
              "      <td>33.930000</td>\n",
              "      <td>0.387217</td>\n",
              "      <td>0.121447</td>\n",
              "      <td>1.119999</td>\n",
              "      <td>0.0</td>\n",
              "      <td>NaN</td>\n",
              "      <td>NaN</td>\n",
              "      <td>31.499626</td>\n",
              "      <td>1</td>\n",
              "    </tr>\n",
              "    <tr>\n",
              "      <th>...</th>\n",
              "      <td>...</td>\n",
              "      <td>...</td>\n",
              "      <td>...</td>\n",
              "      <td>...</td>\n",
              "      <td>...</td>\n",
              "      <td>...</td>\n",
              "      <td>...</td>\n",
              "      <td>...</td>\n",
              "      <td>...</td>\n",
              "      <td>...</td>\n",
              "      <td>...</td>\n",
              "      <td>...</td>\n",
              "      <td>...</td>\n",
              "      <td>...</td>\n",
              "    </tr>\n",
              "    <tr>\n",
              "      <th>2021-02-04</th>\n",
              "      <td>57.849998</td>\n",
              "      <td>56.110001</td>\n",
              "      <td>56.450001</td>\n",
              "      <td>57.849998</td>\n",
              "      <td>13841600</td>\n",
              "      <td>57.849998</td>\n",
              "      <td>0.680298</td>\n",
              "      <td>0.484439</td>\n",
              "      <td>0.730000</td>\n",
              "      <td>0.0</td>\n",
              "      <td>52.179960</td>\n",
              "      <td>54.152000</td>\n",
              "      <td>54.280914</td>\n",
              "      <td>1</td>\n",
              "    </tr>\n",
              "    <tr>\n",
              "      <th>2021-02-05</th>\n",
              "      <td>58.708000</td>\n",
              "      <td>57.369999</td>\n",
              "      <td>58.160000</td>\n",
              "      <td>58.580002</td>\n",
              "      <td>15705700</td>\n",
              "      <td>58.580002</td>\n",
              "      <td>0.944314</td>\n",
              "      <td>0.576414</td>\n",
              "      <td>0.730003</td>\n",
              "      <td>0.0</td>\n",
              "      <td>57.320576</td>\n",
              "      <td>54.312000</td>\n",
              "      <td>54.690351</td>\n",
              "      <td>1</td>\n",
              "    </tr>\n",
              "    <tr>\n",
              "      <th>2021-02-08</th>\n",
              "      <td>60.110001</td>\n",
              "      <td>58.689999</td>\n",
              "      <td>59.700001</td>\n",
              "      <td>59.290001</td>\n",
              "      <td>18403700</td>\n",
              "      <td>59.290001</td>\n",
              "      <td>1.197041</td>\n",
              "      <td>0.700539</td>\n",
              "      <td>0.709999</td>\n",
              "      <td>0.0</td>\n",
              "      <td>57.177150</td>\n",
              "      <td>54.498000</td>\n",
              "      <td>55.128413</td>\n",
              "      <td>1</td>\n",
              "    </tr>\n",
              "    <tr>\n",
              "      <th>2021-02-09</th>\n",
              "      <td>61.060001</td>\n",
              "      <td>58.619999</td>\n",
              "      <td>58.910000</td>\n",
              "      <td>59.610001</td>\n",
              "      <td>23385700</td>\n",
              "      <td>59.610001</td>\n",
              "      <td>1.406932</td>\n",
              "      <td>0.841818</td>\n",
              "      <td>0.320000</td>\n",
              "      <td>0.0</td>\n",
              "      <td>57.664924</td>\n",
              "      <td>54.722334</td>\n",
              "      <td>55.555230</td>\n",
              "      <td>1</td>\n",
              "    </tr>\n",
              "    <tr>\n",
              "      <th>2021-02-10</th>\n",
              "      <td>63.080002</td>\n",
              "      <td>60.804001</td>\n",
              "      <td>62.000000</td>\n",
              "      <td>62.459999</td>\n",
              "      <td>19241146</td>\n",
              "      <td>62.459999</td>\n",
              "      <td>1.782693</td>\n",
              "      <td>1.029993</td>\n",
              "      <td>2.849998</td>\n",
              "      <td>0.0</td>\n",
              "      <td>64.294894</td>\n",
              "      <td>55.072000</td>\n",
              "      <td>56.212827</td>\n",
              "      <td>0</td>\n",
              "    </tr>\n",
              "  </tbody>\n",
              "</table>\n",
              "<p>280 rows × 14 columns</p>\n",
              "</div>"
            ],
            "text/plain": [
              "                 High        Low       Open  ...        SMA        EMA  Target\n",
              "Date                                         ...                              \n",
              "2020-01-02  31.000000  29.790001  29.940001  ...        NaN  30.990000       1\n",
              "2020-01-03  31.430000  30.480000  30.620001  ...        NaN  31.026190       1\n",
              "2020-01-06  32.060001  31.000000  31.010000  ...        NaN  31.078934       1\n",
              "2020-01-07  32.840000  31.360001  31.790001  ...        NaN  31.243798       1\n",
              "2020-01-08  34.520000  32.459999  32.730000  ...        NaN  31.499626       1\n",
              "...               ...        ...        ...  ...        ...        ...     ...\n",
              "2021-02-04  57.849998  56.110001  56.450001  ...  54.152000  54.280914       1\n",
              "2021-02-05  58.708000  57.369999  58.160000  ...  54.312000  54.690351       1\n",
              "2021-02-08  60.110001  58.689999  59.700001  ...  54.498000  55.128413       1\n",
              "2021-02-09  61.060001  58.619999  58.910000  ...  54.722334  55.555230       1\n",
              "2021-02-10  63.080002  60.804001  62.000000  ...  55.072000  56.212827       0\n",
              "\n",
              "[280 rows x 14 columns]"
            ]
          },
          "metadata": {
            "tags": []
          },
          "execution_count": 371
        }
      ]
    },
    {
      "cell_type": "markdown",
      "metadata": {
        "id": "_h1AdTtyGv26"
      },
      "source": [
        "Removing the first 29 days of data \r\n",
        "- To get rid of some null or nan value in the data set"
      ]
    },
    {
      "cell_type": "code",
      "metadata": {
        "id": "psoeCISDGY8u"
      },
      "source": [
        "df = df[29:]"
      ],
      "execution_count": 372,
      "outputs": []
    },
    {
      "cell_type": "markdown",
      "metadata": {
        "id": "UJYmhaLUG2oa"
      },
      "source": [
        "Showing the data"
      ]
    },
    {
      "cell_type": "code",
      "metadata": {
        "colab": {
          "base_uri": "https://localhost:8080/",
          "height": 636
        },
        "id": "JEaT8NSpG15l",
        "outputId": "5df13d63-4698-40f4-9b0a-0f32b989be02"
      },
      "source": [
        "df"
      ],
      "execution_count": 373,
      "outputs": [
        {
          "output_type": "execute_result",
          "data": {
            "text/html": [
              "<div>\n",
              "<style scoped>\n",
              "    .dataframe tbody tr th:only-of-type {\n",
              "        vertical-align: middle;\n",
              "    }\n",
              "\n",
              "    .dataframe tbody tr th {\n",
              "        vertical-align: top;\n",
              "    }\n",
              "\n",
              "    .dataframe thead th {\n",
              "        text-align: right;\n",
              "    }\n",
              "</style>\n",
              "<table border=\"1\" class=\"dataframe\">\n",
              "  <thead>\n",
              "    <tr style=\"text-align: right;\">\n",
              "      <th></th>\n",
              "      <th>High</th>\n",
              "      <th>Low</th>\n",
              "      <th>Open</th>\n",
              "      <th>Close</th>\n",
              "      <th>Volume</th>\n",
              "      <th>Adj Close</th>\n",
              "      <th>MACD</th>\n",
              "      <th>Signal_line</th>\n",
              "      <th>up</th>\n",
              "      <th>down</th>\n",
              "      <th>RSI</th>\n",
              "      <th>SMA</th>\n",
              "      <th>EMA</th>\n",
              "      <th>Target</th>\n",
              "    </tr>\n",
              "    <tr>\n",
              "      <th>Date</th>\n",
              "      <th></th>\n",
              "      <th></th>\n",
              "      <th></th>\n",
              "      <th></th>\n",
              "      <th></th>\n",
              "      <th></th>\n",
              "      <th></th>\n",
              "      <th></th>\n",
              "      <th></th>\n",
              "      <th></th>\n",
              "      <th></th>\n",
              "      <th></th>\n",
              "      <th></th>\n",
              "      <th></th>\n",
              "    </tr>\n",
              "  </thead>\n",
              "  <tbody>\n",
              "    <tr>\n",
              "      <th>2020-02-13</th>\n",
              "      <td>41.549999</td>\n",
              "      <td>40.000000</td>\n",
              "      <td>40.930000</td>\n",
              "      <td>40.090000</td>\n",
              "      <td>23850900</td>\n",
              "      <td>40.090000</td>\n",
              "      <td>1.816856</td>\n",
              "      <td>1.599386</td>\n",
              "      <td>0.000000</td>\n",
              "      <td>-1.160000</td>\n",
              "      <td>62.881761</td>\n",
              "      <td>36.261333</td>\n",
              "      <td>37.839880</td>\n",
              "      <td>0</td>\n",
              "    </tr>\n",
              "    <tr>\n",
              "      <th>2020-02-14</th>\n",
              "      <td>40.310001</td>\n",
              "      <td>38.700001</td>\n",
              "      <td>40.020000</td>\n",
              "      <td>39.660000</td>\n",
              "      <td>32014200</td>\n",
              "      <td>39.660000</td>\n",
              "      <td>1.738078</td>\n",
              "      <td>1.627125</td>\n",
              "      <td>0.000000</td>\n",
              "      <td>-0.430000</td>\n",
              "      <td>63.228352</td>\n",
              "      <td>36.550333</td>\n",
              "      <td>38.013225</td>\n",
              "      <td>1</td>\n",
              "    </tr>\n",
              "    <tr>\n",
              "      <th>2020-02-18</th>\n",
              "      <td>40.270000</td>\n",
              "      <td>39.450001</td>\n",
              "      <td>39.490002</td>\n",
              "      <td>40.180000</td>\n",
              "      <td>22149300</td>\n",
              "      <td>40.180000</td>\n",
              "      <td>1.698031</td>\n",
              "      <td>1.641306</td>\n",
              "      <td>0.520000</td>\n",
              "      <td>0.000000</td>\n",
              "      <td>62.669874</td>\n",
              "      <td>36.844000</td>\n",
              "      <td>38.219584</td>\n",
              "      <td>1</td>\n",
              "    </tr>\n",
              "    <tr>\n",
              "      <th>2020-02-19</th>\n",
              "      <td>41.230000</td>\n",
              "      <td>40.115002</td>\n",
              "      <td>40.419998</td>\n",
              "      <td>41.049999</td>\n",
              "      <td>23287300</td>\n",
              "      <td>41.049999</td>\n",
              "      <td>1.716706</td>\n",
              "      <td>1.656386</td>\n",
              "      <td>0.869999</td>\n",
              "      <td>0.000000</td>\n",
              "      <td>65.194601</td>\n",
              "      <td>37.159667</td>\n",
              "      <td>38.489148</td>\n",
              "      <td>0</td>\n",
              "    </tr>\n",
              "    <tr>\n",
              "      <th>2020-02-20</th>\n",
              "      <td>41.189999</td>\n",
              "      <td>39.849998</td>\n",
              "      <td>41.000000</td>\n",
              "      <td>40.919998</td>\n",
              "      <td>25446400</td>\n",
              "      <td>40.919998</td>\n",
              "      <td>1.701403</td>\n",
              "      <td>1.665389</td>\n",
              "      <td>0.000000</td>\n",
              "      <td>-0.130001</td>\n",
              "      <td>66.084969</td>\n",
              "      <td>37.430000</td>\n",
              "      <td>38.720657</td>\n",
              "      <td>0</td>\n",
              "    </tr>\n",
              "    <tr>\n",
              "      <th>...</th>\n",
              "      <td>...</td>\n",
              "      <td>...</td>\n",
              "      <td>...</td>\n",
              "      <td>...</td>\n",
              "      <td>...</td>\n",
              "      <td>...</td>\n",
              "      <td>...</td>\n",
              "      <td>...</td>\n",
              "      <td>...</td>\n",
              "      <td>...</td>\n",
              "      <td>...</td>\n",
              "      <td>...</td>\n",
              "      <td>...</td>\n",
              "      <td>...</td>\n",
              "    </tr>\n",
              "    <tr>\n",
              "      <th>2021-02-04</th>\n",
              "      <td>57.849998</td>\n",
              "      <td>56.110001</td>\n",
              "      <td>56.450001</td>\n",
              "      <td>57.849998</td>\n",
              "      <td>13841600</td>\n",
              "      <td>57.849998</td>\n",
              "      <td>0.680298</td>\n",
              "      <td>0.484439</td>\n",
              "      <td>0.730000</td>\n",
              "      <td>0.000000</td>\n",
              "      <td>52.179960</td>\n",
              "      <td>54.152000</td>\n",
              "      <td>54.280914</td>\n",
              "      <td>1</td>\n",
              "    </tr>\n",
              "    <tr>\n",
              "      <th>2021-02-05</th>\n",
              "      <td>58.708000</td>\n",
              "      <td>57.369999</td>\n",
              "      <td>58.160000</td>\n",
              "      <td>58.580002</td>\n",
              "      <td>15705700</td>\n",
              "      <td>58.580002</td>\n",
              "      <td>0.944314</td>\n",
              "      <td>0.576414</td>\n",
              "      <td>0.730003</td>\n",
              "      <td>0.000000</td>\n",
              "      <td>57.320576</td>\n",
              "      <td>54.312000</td>\n",
              "      <td>54.690351</td>\n",
              "      <td>1</td>\n",
              "    </tr>\n",
              "    <tr>\n",
              "      <th>2021-02-08</th>\n",
              "      <td>60.110001</td>\n",
              "      <td>58.689999</td>\n",
              "      <td>59.700001</td>\n",
              "      <td>59.290001</td>\n",
              "      <td>18403700</td>\n",
              "      <td>59.290001</td>\n",
              "      <td>1.197041</td>\n",
              "      <td>0.700539</td>\n",
              "      <td>0.709999</td>\n",
              "      <td>0.000000</td>\n",
              "      <td>57.177150</td>\n",
              "      <td>54.498000</td>\n",
              "      <td>55.128413</td>\n",
              "      <td>1</td>\n",
              "    </tr>\n",
              "    <tr>\n",
              "      <th>2021-02-09</th>\n",
              "      <td>61.060001</td>\n",
              "      <td>58.619999</td>\n",
              "      <td>58.910000</td>\n",
              "      <td>59.610001</td>\n",
              "      <td>23385700</td>\n",
              "      <td>59.610001</td>\n",
              "      <td>1.406932</td>\n",
              "      <td>0.841818</td>\n",
              "      <td>0.320000</td>\n",
              "      <td>0.000000</td>\n",
              "      <td>57.664924</td>\n",
              "      <td>54.722334</td>\n",
              "      <td>55.555230</td>\n",
              "      <td>1</td>\n",
              "    </tr>\n",
              "    <tr>\n",
              "      <th>2021-02-10</th>\n",
              "      <td>63.080002</td>\n",
              "      <td>60.804001</td>\n",
              "      <td>62.000000</td>\n",
              "      <td>62.459999</td>\n",
              "      <td>19241146</td>\n",
              "      <td>62.459999</td>\n",
              "      <td>1.782693</td>\n",
              "      <td>1.029993</td>\n",
              "      <td>2.849998</td>\n",
              "      <td>0.000000</td>\n",
              "      <td>64.294894</td>\n",
              "      <td>55.072000</td>\n",
              "      <td>56.212827</td>\n",
              "      <td>0</td>\n",
              "    </tr>\n",
              "  </tbody>\n",
              "</table>\n",
              "<p>251 rows × 14 columns</p>\n",
              "</div>"
            ],
            "text/plain": [
              "                 High        Low       Open  ...        SMA        EMA  Target\n",
              "Date                                         ...                              \n",
              "2020-02-13  41.549999  40.000000  40.930000  ...  36.261333  37.839880       0\n",
              "2020-02-14  40.310001  38.700001  40.020000  ...  36.550333  38.013225       1\n",
              "2020-02-18  40.270000  39.450001  39.490002  ...  36.844000  38.219584       1\n",
              "2020-02-19  41.230000  40.115002  40.419998  ...  37.159667  38.489148       0\n",
              "2020-02-20  41.189999  39.849998  41.000000  ...  37.430000  38.720657       0\n",
              "...               ...        ...        ...  ...        ...        ...     ...\n",
              "2021-02-04  57.849998  56.110001  56.450001  ...  54.152000  54.280914       1\n",
              "2021-02-05  58.708000  57.369999  58.160000  ...  54.312000  54.690351       1\n",
              "2021-02-08  60.110001  58.689999  59.700001  ...  54.498000  55.128413       1\n",
              "2021-02-09  61.060001  58.619999  58.910000  ...  54.722334  55.555230       1\n",
              "2021-02-10  63.080002  60.804001  62.000000  ...  55.072000  56.212827       0\n",
              "\n",
              "[251 rows x 14 columns]"
            ]
          },
          "metadata": {
            "tags": []
          },
          "execution_count": 373
        }
      ]
    },
    {
      "cell_type": "markdown",
      "metadata": {
        "id": "9Sap1SwaG6dW"
      },
      "source": [
        "Splitting the data set into the feature or independent data set (X) and a Target or dependent data set (Y)"
      ]
    },
    {
      "cell_type": "code",
      "metadata": {
        "id": "P3kgf7UFG4t0"
      },
      "source": [
        "keep_columns = ['Close', 'MACD', 'Signal_line', 'RSI', 'SMA', 'EMA']\r\n",
        "X = df[keep_columns].values\r\n",
        "Y = df['Target'].values"
      ],
      "execution_count": 374,
      "outputs": []
    },
    {
      "cell_type": "markdown",
      "metadata": {
        "id": "TcE1FR_aH3qW"
      },
      "source": [
        "Going to split data set again but this time we are going to split it into training data set (80%) and testing data sets (20%)"
      ]
    },
    {
      "cell_type": "code",
      "metadata": {
        "id": "2Jb_6gX5Hv78"
      },
      "source": [
        "X_train, X_test, Y_train, Y_test = train_test_split(X, Y, test_size = 0.2, random_state = 2)"
      ],
      "execution_count": 375,
      "outputs": []
    },
    {
      "cell_type": "markdown",
      "metadata": {
        "id": "laTNFu5hIaoS"
      },
      "source": [
        "Creating and train the decision tree classifier model"
      ]
    },
    {
      "cell_type": "code",
      "metadata": {
        "id": "noqv-6SlIZty"
      },
      "source": [
        "tree = DecisionTreeClassifier().fit(X_train, Y_train)"
      ],
      "execution_count": 376,
      "outputs": []
    },
    {
      "cell_type": "markdown",
      "metadata": {
        "id": "oW0iGgRgIlNO"
      },
      "source": [
        "Checking how well the model did on the training data set"
      ]
    },
    {
      "cell_type": "code",
      "metadata": {
        "colab": {
          "base_uri": "https://localhost:8080/"
        },
        "id": "YjKw-PYSIkoI",
        "outputId": "8b201756-3a57-453f-b95f-5d4d2991d8bf"
      },
      "source": [
        "print(tree.score(X_train, Y_train))"
      ],
      "execution_count": 377,
      "outputs": [
        {
          "output_type": "stream",
          "text": [
            "1.0\n"
          ],
          "name": "stdout"
        }
      ]
    },
    {
      "cell_type": "markdown",
      "metadata": {
        "id": "z2pvxVyZIw0v"
      },
      "source": [
        "Checking how well the model did on the testing data set"
      ]
    },
    {
      "cell_type": "code",
      "metadata": {
        "colab": {
          "base_uri": "https://localhost:8080/"
        },
        "id": "MSbayQ9AIvnW",
        "outputId": "f2783456-93c0-4cfb-a80b-f55dafb927f7"
      },
      "source": [
        "print(tree.score(X_test, Y_test))"
      ],
      "execution_count": 378,
      "outputs": [
        {
          "output_type": "stream",
          "text": [
            "0.6078431372549019\n"
          ],
          "name": "stdout"
        }
      ]
    },
    {
      "cell_type": "markdown",
      "metadata": {
        "id": "1j7LfgPTI7DS"
      },
      "source": [
        "Showing the model tree predictions"
      ]
    },
    {
      "cell_type": "code",
      "metadata": {
        "colab": {
          "base_uri": "https://localhost:8080/"
        },
        "id": "FSn9czyjI59b",
        "outputId": "b918155f-55ed-4f19-cb06-063931be5040"
      },
      "source": [
        "tree_predictions = tree.predict(X_test)\r\n",
        "print(tree_predictions)"
      ],
      "execution_count": 379,
      "outputs": [
        {
          "output_type": "stream",
          "text": [
            "[1 1 1 0 0 1 0 1 0 0 1 0 1 0 1 0 1 1 0 1 1 1 1 1 1 1 1 1 0 0 1 1 0 0 1 1 0\n",
            " 1 1 1 1 0 0 0 1 1 1 1 0 0 0]\n"
          ],
          "name": "stdout"
        }
      ]
    },
    {
      "cell_type": "markdown",
      "metadata": {
        "id": "WVq-Jz_WJKjK"
      },
      "source": [
        "Showing the actual values from the test data "
      ]
    },
    {
      "cell_type": "code",
      "metadata": {
        "colab": {
          "base_uri": "https://localhost:8080/"
        },
        "id": "BNTBsQMoJJKG",
        "outputId": "b8743be5-e1f2-4fd8-aec6-81e4f3596647"
      },
      "source": [
        "Y_test"
      ],
      "execution_count": 380,
      "outputs": [
        {
          "output_type": "execute_result",
          "data": {
            "text/plain": [
              "array([1, 1, 1, 0, 0, 1, 0, 1, 1, 1, 0, 0, 0, 1, 1, 0, 1, 1, 1, 0, 1, 1,\n",
              "       0, 1, 0, 1, 0, 0, 0, 0, 0, 0, 0, 1, 1, 1, 0, 1, 0, 1, 0, 0, 1, 1,\n",
              "       1, 1, 0, 1, 0, 1, 0])"
            ]
          },
          "metadata": {
            "tags": []
          },
          "execution_count": 380
        }
      ]
    },
    {
      "cell_type": "markdown",
      "metadata": {
        "id": "bqfq3QSuJQoy"
      },
      "source": [
        "Getting the models metrics"
      ]
    },
    {
      "cell_type": "code",
      "metadata": {
        "colab": {
          "base_uri": "https://localhost:8080/"
        },
        "id": "tMPjdeyNJPIY",
        "outputId": "35e013d0-f6ac-4cb5-fd14-fad3b5153761"
      },
      "source": [
        "print(classification_report(Y_test, tree_predictions))"
      ],
      "execution_count": 381,
      "outputs": [
        {
          "output_type": "stream",
          "text": [
            "              precision    recall  f1-score   support\n",
            "\n",
            "           0       0.60      0.50      0.55        24\n",
            "           1       0.61      0.70      0.66        27\n",
            "\n",
            "    accuracy                           0.61        51\n",
            "   macro avg       0.61      0.60      0.60        51\n",
            "weighted avg       0.61      0.61      0.60        51\n",
            "\n"
          ],
          "name": "stdout"
        }
      ]
    },
    {
      "cell_type": "markdown",
      "metadata": {
        "id": "Bei5UecAJl4r"
      },
      "source": [
        "This model is promising for exploring more on machine learing classifiers for stock price movements and may be the model can be improved upon with the use of other indicators, more data, parameter tuning and definately some more analysis.\r\n",
        "\r\n",
        "\r\n",
        "# COMPELETE"
      ]
    }
  ]
}